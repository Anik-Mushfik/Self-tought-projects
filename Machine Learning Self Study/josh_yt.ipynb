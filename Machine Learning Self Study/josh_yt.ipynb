{
 "cells": [
  {
   "cell_type": "markdown",
   "metadata": {},
   "source": [
    "**Steps of Machine Learning**\n",
    "1. Import the Data\n",
    "2. Clean the Data\n",
    "3. Split the Data into Training / Test Sets\n",
    "4. Create a Model\n",
    "5. Train the Model\n",
    "6. Make Predictions\n",
    "7. Evaluate and Improve"
   ]
  },
  {
   "cell_type": "markdown",
   "metadata": {},
   "source": [
    "**Python Lybraries used for Machine Learning**\n",
    "1. Numpy\n",
    "2. Pandas\n",
    "3. Matpltlib\n",
    "4. Sikit-Learn"
   ]
  },
  {
   "cell_type": "code",
   "execution_count": null,
   "metadata": {},
   "outputs": [],
   "source": []
  }
 ],
 "metadata": {
  "language_info": {
   "name": "python"
  }
 },
 "nbformat": 4,
 "nbformat_minor": 2
}
